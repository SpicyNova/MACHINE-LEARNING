{
 "cells": [
  {
   "cell_type": "code",
   "execution_count": 52,
   "id": "a8178566",
   "metadata": {},
   "outputs": [],
   "source": [
    "import numpy as np\n",
    "import matplotlib.pyplot as plt\n",
    "import pandas as pd\n",
    "import math"
   ]
  },
  {
   "cell_type": "markdown",
   "id": "a34e5def",
   "metadata": {},
   "source": [
    "Number 1"
   ]
  },
  {
   "cell_type": "code",
   "execution_count": 3,
   "id": "13cde907",
   "metadata": {},
   "outputs": [],
   "source": [
    "# create function for equation\n",
    "def myNumbersEq(x):\n",
    "    y = 0.5 * x ** 2 + 7\n",
    "    return y\n",
    "# \n",
    "\n",
    "# write y values to myNumbers.txt\n",
    "\n",
    "# creates new file where 'w' overwrites contents if file already exists\n",
    "numFile = open('myNumbers.txt', 'w')\n",
    "\n",
    "# writes a list of the returned y values from the myNumbersEq function on a new line\n",
    "numFile.write('\\n'.join([str(myNumbersEq(x)) for x in range(-5,6)])) \n",
    "\n",
    "# close numFile\n",
    "numFile.close()"
   ]
  },
  {
   "cell_type": "markdown",
   "id": "3dbb5a7e",
   "metadata": {},
   "source": [
    "Number 2"
   ]
  },
  {
   "cell_type": "code",
   "execution_count": 4,
   "id": "0e833e76",
   "metadata": {},
   "outputs": [
    {
     "name": "stdout",
     "output_type": "stream",
     "text": [
      "19.5\n",
      "15.0\n",
      "11.5\n",
      "9.0\n",
      "7.5\n",
      "7.0\n",
      "7.5\n",
      "9.0\n",
      "11.5\n",
      "15.0\n",
      "19.5\n"
     ]
    }
   ],
   "source": [
    "readNumFile = open('myNumbers.txt') #opens myNumbers.txt\n",
    "print(readNumFile.read()) # reads the file and prints"
   ]
  },
  {
   "cell_type": "markdown",
   "id": "e1d85945",
   "metadata": {},
   "source": [
    "Number 3"
   ]
  },
  {
   "cell_type": "code",
   "execution_count": 5,
   "id": "57fec2bb",
   "metadata": {},
   "outputs": [
    {
     "data": {
      "image/png": "[encoded data removed]",
      "text/plain": [
       "<Figure size 432x288 with 1 Axes>"
      ]
     },
     "metadata": {
      "needs_background": "light"
     },
     "output_type": "display_data"
    }
   ],
   "source": [
    "readNumFile.seek(0) # sets cursor to top of file\n",
    "\n",
    "# reads each number \"splitting\" on new line char and then converts to float from string\n",
    "nums = [float(num) for num in list(readNumFile.read().split('\\n'))]\n",
    "\n",
    "plt.plot(range(-5,6), nums) # plots nums(y) on corresponding x-axis[-5,5]\n",
    "plt.xlabel('x')\n",
    "plt.ylabel('y')\n",
    "plt.show()\n",
    "\n",
    "# close readNumFile\n",
    "readNumFile.close()"
   ]
  },
  {
   "cell_type": "markdown",
   "id": "cbe41679",
   "metadata": {},
   "source": [
    "Number 4"
   ]
  },
  {
   "cell_type": "code",
   "execution_count": 70,
   "id": "801e4699",
   "metadata": {},
   "outputs": [
    {
     "data": {
      "text/html": [
       "<div>\n",
       "<style scoped>\n",
       "    .dataframe tbody tr th:only-of-type {\n",
       "        vertical-align: middle;\n",
       "    }\n",
       "\n",
       "    .dataframe tbody tr th {\n",
       "        vertical-align: top;\n",
       "    }\n",
       "\n",
       "    .dataframe thead th {\n",
       "        text-align: right;\n",
       "    }\n",
       "</style>\n",
       "<table border=\"1\" class=\"dataframe\">\n",
       "  <thead>\n",
       "    <tr style=\"text-align: right;\">\n",
       "      <th></th>\n",
       "      <th>1</th>\n",
       "    </tr>\n",
       "    <tr>\n",
       "      <th>0</th>\n",
       "      <th></th>\n",
       "    </tr>\n",
       "  </thead>\n",
       "  <tbody>\n",
       "    <tr>\n",
       "      <th>0</th>\n",
       "      <td>0.000000</td>\n",
       "    </tr>\n",
       "    <tr>\n",
       "      <th>1</th>\n",
       "      <td>0.017452</td>\n",
       "    </tr>\n",
       "    <tr>\n",
       "      <th>2</th>\n",
       "      <td>0.034899</td>\n",
       "    </tr>\n",
       "    <tr>\n",
       "      <th>3</th>\n",
       "      <td>0.052336</td>\n",
       "    </tr>\n",
       "    <tr>\n",
       "      <th>4</th>\n",
       "      <td>0.069756</td>\n",
       "    </tr>\n",
       "    <tr>\n",
       "      <th>...</th>\n",
       "      <td>...</td>\n",
       "    </tr>\n",
       "    <tr>\n",
       "      <th>355</th>\n",
       "      <td>-0.087156</td>\n",
       "    </tr>\n",
       "    <tr>\n",
       "      <th>356</th>\n",
       "      <td>-0.069756</td>\n",
       "    </tr>\n",
       "    <tr>\n",
       "      <th>357</th>\n",
       "      <td>-0.052336</td>\n",
       "    </tr>\n",
       "    <tr>\n",
       "      <th>358</th>\n",
       "      <td>-0.034899</td>\n",
       "    </tr>\n",
       "    <tr>\n",
       "      <th>359</th>\n",
       "      <td>-0.017452</td>\n",
       "    </tr>\n",
       "  </tbody>\n",
       "</table>\n",
       "<p>360 rows × 1 columns</p>\n",
       "</div>"
      ],
      "text/plain": [
       "            1\n",
       "0            \n",
       "0    0.000000\n",
       "1    0.017452\n",
       "2    0.034899\n",
       "3    0.052336\n",
       "4    0.069756\n",
       "..        ...\n",
       "355 -0.087156\n",
       "356 -0.069756\n",
       "357 -0.052336\n",
       "358 -0.034899\n",
       "359 -0.017452\n",
       "\n",
       "[360 rows x 1 columns]"
      ]
     },
     "metadata": {},
     "output_type": "display_data"
    },
    {
     "name": "stdout",
     "output_type": "stream",
     "text": [
      "myData_avg:  1.835915678742121e-17 \n",
      "myData_var:  0.5013927576601673 \n",
      "myData_std:  0.7080909247124746 \n",
      "myData_med:  6.123233995736766e-17 \n",
      "myData_mode:\n",
      " 0    -0.999848\n",
      "1    -0.999391\n",
      "2    -0.998630\n",
      "3    -0.996195\n",
      "4    -0.994522\n",
      "        ...   \n",
      "62    0.996195\n",
      "63    0.997564\n",
      "64    0.998630\n",
      "65    0.999391\n",
      "66    0.999848\n",
      "Name: 1, Length: 67, dtype: float64\n",
      "\n",
      "Average Distance Between Points:  1.0000759360017168\n"
     ]
    }
   ],
   "source": [
    "# create series with no header that holds the x and y coordinates seperated by whitespace\n",
    "myData = pd.read_csv('myData.txt', header = None, sep = \" \").set_index(0)\n",
    "myData.drop(2, axis=1, inplace=True) # dropped extra row that wasn't the coordinates\n",
    "display(myData) # for reference\n",
    "\n",
    "# descriptives stats of y coordinates\n",
    "myData_avg = myData[1].mean() # mean\n",
    "myData_var = myData[1].var() # variance\n",
    "myData_std = myData[1].std() # std\n",
    "myData_med = myData[1].median() # median\n",
    "myData_mode = myData[1].mode() # mode\n",
    "\n",
    "print(\"myData_avg: \", myData_avg, \"\\nmyData_var: \", myData_var, \"\\nmyData_std: \", myData_std,\n",
    "     \"\\nmyData_med: \", myData_med, \"\\nmyData_mode:\\n\", myData_mode)\n",
    "\n",
    "# average distance between points\n",
    "myData_x = list(myData.index) # x coord\n",
    "myData_y = list(myData[1]) # y coord\n",
    "\n",
    "def getDist(x1, x2, y1, y2): # gets distance between two points\n",
    "    dist = np.sqrt(((x2 - x1)**2) + ((y2 - y1)**2))\n",
    "    return dist\n",
    "#\n",
    "\n",
    "# loops through the x and y coords to find the distance between each point and stores back into distances\n",
    "myData_dist = [getDist(myData_x[j], myData_x[j+1], myData_y[j], myData_y[j+1]) for j in range(len(myData_x) - 1)]\n",
    "\n",
    "myData_dist_avg = sum(myData_dist) / len(myData_dist) # average distance between points\n",
    "\n",
    "print(\"\\nAverage Distance Between Points: \", myData_dist_avg)"
   ]
  },
  {
   "cell_type": "markdown",
   "id": "5690adee",
   "metadata": {},
   "source": [
    "Number 5"
   ]
  },
  {
   "cell_type": "code",
   "execution_count": 59,
   "id": "032829c4",
   "metadata": {},
   "outputs": [
    {
     "data": {
      "image/png": "[encoded data removed]",
      "text/plain": [
       "<Figure size 432x288 with 1 Axes>"
      ]
     },
     "metadata": {
      "needs_background": "light"
     },
     "output_type": "display_data"
    }
   ],
   "source": [
    "# myData plotted\n",
    "plt.plot(myData) # plots myData\n",
    "plt.xlabel('x')\n",
    "plt.ylabel('y')\n",
    "plt.title('myData')\n",
    "plt.show()"
   ]
  },
  {
   "cell_type": "markdown",
   "id": "ea85af72",
   "metadata": {},
   "source": [
    "Number 6"
   ]
  },
  {
   "cell_type": "code",
   "execution_count": 69,
   "id": "1b8535bb",
   "metadata": {},
   "outputs": [
    {
     "data": {
      "text/html": [
       "<div>\n",
       "<style scoped>\n",
       "    .dataframe tbody tr th:only-of-type {\n",
       "        vertical-align: middle;\n",
       "    }\n",
       "\n",
       "    .dataframe tbody tr th {\n",
       "        vertical-align: top;\n",
       "    }\n",
       "\n",
       "    .dataframe thead th {\n",
       "        text-align: right;\n",
       "    }\n",
       "</style>\n",
       "<table border=\"1\" class=\"dataframe\">\n",
       "  <thead>\n",
       "    <tr style=\"text-align: right;\">\n",
       "      <th></th>\n",
       "      <th>1</th>\n",
       "    </tr>\n",
       "    <tr>\n",
       "      <th>0</th>\n",
       "      <th></th>\n",
       "    </tr>\n",
       "  </thead>\n",
       "  <tbody>\n",
       "    <tr>\n",
       "      <th>0</th>\n",
       "      <td>0.000000</td>\n",
       "    </tr>\n",
       "    <tr>\n",
       "      <th>1</th>\n",
       "      <td>0.017452</td>\n",
       "    </tr>\n",
       "    <tr>\n",
       "      <th>2</th>\n",
       "      <td>0.034899</td>\n",
       "    </tr>\n",
       "    <tr>\n",
       "      <th>3</th>\n",
       "      <td>0.052336</td>\n",
       "    </tr>\n",
       "    <tr>\n",
       "      <th>4</th>\n",
       "      <td>0.069756</td>\n",
       "    </tr>\n",
       "    <tr>\n",
       "      <th>...</th>\n",
       "      <td>...</td>\n",
       "    </tr>\n",
       "    <tr>\n",
       "      <th>355</th>\n",
       "      <td>-0.087156</td>\n",
       "    </tr>\n",
       "    <tr>\n",
       "      <th>356</th>\n",
       "      <td>-0.069756</td>\n",
       "    </tr>\n",
       "    <tr>\n",
       "      <th>357</th>\n",
       "      <td>-0.052336</td>\n",
       "    </tr>\n",
       "    <tr>\n",
       "      <th>358</th>\n",
       "      <td>-0.034899</td>\n",
       "    </tr>\n",
       "    <tr>\n",
       "      <th>359</th>\n",
       "      <td>-0.017452</td>\n",
       "    </tr>\n",
       "  </tbody>\n",
       "</table>\n",
       "<p>360 rows × 1 columns</p>\n",
       "</div>"
      ],
      "text/plain": [
       "            1\n",
       "0            \n",
       "0    0.000000\n",
       "1    0.017452\n",
       "2    0.034899\n",
       "3    0.052336\n",
       "4    0.069756\n",
       "..        ...\n",
       "355 -0.087156\n",
       "356 -0.069756\n",
       "357 -0.052336\n",
       "358 -0.034899\n",
       "359 -0.017452\n",
       "\n",
       "[360 rows x 1 columns]"
      ]
     },
     "metadata": {},
     "output_type": "display_data"
    },
    {
     "name": "stdout",
     "output_type": "stream",
     "text": [
      "myButtyData_avg:  -0.005317259895480828 \n",
      "myNuttyData_var:  0.5182959575313083 \n",
      "myNuttyData_std:  0.7199277446600515 \n",
      "myNuttyData_med:  -0.00872620321864175 \n",
      "myNuttyData_mode:\n",
      " 0    -0.999848\n",
      "1    -0.999391\n",
      "2    -0.998630\n",
      "3    -0.996195\n",
      "4    -0.994522\n",
      "        ...   \n",
      "61    0.996195\n",
      "62    0.997564\n",
      "63    0.998630\n",
      "64    0.999391\n",
      "65    0.999848\n",
      "Name: 1, Length: 66, dtype: float64\n",
      "\n",
      "Average Distance Between Points:  1.0120274520715555\n"
     ]
    },
    {
     "data": {
      "image/png": "[encoded data removed]",
      "text/plain": [
       "<Figure size 432x288 with 1 Axes>"
      ]
     },
     "metadata": {
      "needs_background": "light"
     },
     "output_type": "display_data"
    }
   ],
   "source": [
    "# create series with no header that holds the x and y coordinates seperated by whitespace\n",
    "myNuttyData = pd.read_csv('myNuttyData.txt', header = None, sep = \" \").set_index(0)\n",
    "myNuttyData.drop(2, axis=1, inplace=True) # dropped extra row that wasn't the coordinates\n",
    "display(myNuttyData) # for reference\n",
    "\n",
    "# descriptives stats of y coordinates\n",
    "myNuttyData_avg = myNuttyData[1].mean() # mean\n",
    "myNuttyData_var = myNuttyData[1].var() # variance\n",
    "myNuttyData_std = myNuttyData[1].std() # std\n",
    "myNuttyData_med = myNuttyData[1].median() # median\n",
    "myNuttyData_mode = myNuttyData[1].mode() # mode\n",
    "\n",
    "print(\"myButtyData_avg: \", myNuttyData_avg, \"\\nmyNuttyData_var: \", myNuttyData_var, \"\\nmyNuttyData_std: \", myNuttyData_std,\n",
    "     \"\\nmyNuttyData_med: \", myNuttyData_med, \"\\nmyNuttyData_mode:\\n\", myNuttyData_mode)\n",
    "\n",
    "# average distance between points\n",
    "myNuttyData_x = list(myNuttyData.index) # x coord\n",
    "myNuttyData_y = list(myNuttyData[1]) # y coord\n",
    "\n",
    "def getDist(x1, x2, y1, y2): # gets distance between two points\n",
    "    dist = np.sqrt(((x2 - x1)**2) + ((y2 - y1)**2))\n",
    "    return dist\n",
    "#\n",
    "\n",
    "# loops through the x and y coords to find the distance between each point and stores back into distances\n",
    "myNuttyData_dist = [getDist(myNuttyData_x[j], myNuttyData_x[j+1], myNuttyData_y[j], myNuttyData_y[j+1]) \n",
    "             for j in range(len(myNuttyData_x) - 1)]\n",
    "\n",
    "myNuttyData_dist_avg = sum(myNuttyData_dist) / len(myNuttyData_dist) # average distance between points\n",
    "\n",
    "print(\"\\nAverage Distance Between Points: \", myNuttyData_dist_avg)\n",
    "\n",
    "# myNuttyData plotted\n",
    "plt.plot(myNuttyData) # plots myNuttyData\n",
    "plt.xlabel('x')\n",
    "plt.ylabel('y')\n",
    "plt.title('myNuttyData')\n",
    "plt.show()"
   ]
  },
  {
   "cell_type": "markdown",
   "id": "876fbc1d",
   "metadata": {},
   "source": [
    "# References"
   ]
  },
  {
   "cell_type": "markdown",
   "id": "a1f772d8",
   "metadata": {},
   "source": [
    "https://stackoverflow.com/questions/43208296/write-to-a-file-from-a-list-with-integer-python\n",
    "\n",
    "https://pandas.pydata.org/docs/reference/api/pandas.Series.html"
   ]
  }
 ],
 "metadata": {
  "kernelspec": {
   "display_name": "base",
   "language": "python",
   "name": "python3"
  },
  "language_info": {
   "codemirror_mode": {
    "name": "ipython",
    "version": 3
   },
   "file_extension": ".py",
   "mimetype": "text/x-python",
   "name": "python",
   "nbconvert_exporter": "python",
   "pygments_lexer": "ipython3",
   "version": "3.9.12"
  },
  "vscode": {
   "interpreter": {
    "hash": "a9cb79ace03ba8902f7ba76de326b81de6205427d011fc2b09cef598893368be"
   }
  }
 },
 "nbformat": 4,
 "nbformat_minor": 5
}
